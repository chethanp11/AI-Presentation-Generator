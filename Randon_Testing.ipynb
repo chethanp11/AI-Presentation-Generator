{
 "cells": [
  {
   "cell_type": "code",
   "execution_count": 1,
   "id": "470f346f-0f30-49c2-920c-957bc109bd58",
   "metadata": {},
   "outputs": [
    {
     "name": "stdout",
     "output_type": "stream",
     "text": [
      "/home/ubuntu/AI-Presentation-Generator\n"
     ]
    }
   ],
   "source": [
    "import os\n",
    "print(os.getcwd())  # Check the current directory where Jupyter is running\n"
   ]
  },
  {
   "cell_type": "code",
   "execution_count": 2,
   "id": "aabfd21e-5899-4b35-95e0-be8a40e62f82",
   "metadata": {},
   "outputs": [
    {
     "name": "stdout",
     "output_type": "stream",
     "text": [
      "/home/ubuntu\n"
     ]
    }
   ],
   "source": [
    "import os\n",
    "os.chdir(\"..\")  # Move one directory back\n",
    "print(os.getcwd())  # Confirm new working directory\n"
   ]
  }
 ],
 "metadata": {
  "kernelspec": {
   "display_name": "Python 3 (ipykernel)",
   "language": "python",
   "name": "python3"
  },
  "language_info": {
   "codemirror_mode": {
    "name": "ipython",
    "version": 3
   },
   "file_extension": ".py",
   "mimetype": "text/x-python",
   "name": "python",
   "nbconvert_exporter": "python",
   "pygments_lexer": "ipython3",
   "version": "3.12.3"
  }
 },
 "nbformat": 4,
 "nbformat_minor": 5
}
